{
 "cells": [
  {
   "cell_type": "markdown",
   "metadata": {},
   "source": [
    "# Setting UP\n",
    "Day 1\n",
    "by David, July 21, 2020\n",
    "\n",
    "It depends on your preference. If it's Anaconda (Jupyter Notebook, Jupyterlab), Atom, Pycharm etc. It's only a means to get that want, which is the insights. Each one of them has it's own advantage and disadvantage. So try it and see where you are comfortable with. \n",
    "\n",
    "This is only reference that I think will help me. Through time changes may occur."
   ]
  },
  {
   "cell_type": "markdown",
   "metadata": {},
   "source": [
    "## Download Python \n",
    "https://www.python.org/"
   ]
  },
  {
   "cell_type": "markdown",
   "metadata": {},
   "source": [
    "## Download Anaconda\n",
    "https://www.anaconda.com/products/individual\n",
    "\n",
    "Helpful: https://www.youtube.com/watch?v=5mDYijMfSzs <br>\n",
    "https://docs.anaconda.com/anaconda/user-guide/cheatsheet/"
   ]
  },
  {
   "cell_type": "markdown",
   "metadata": {
    "ExecuteTime": {
     "end_time": "2020-07-20T06:07:41.684383Z",
     "start_time": "2020-07-20T06:07:41.678400Z"
    }
   },
   "source": [
    "## Anaconda Prompt vs Anaconda Kernel Pip Install"
   ]
  },
  {
   "attachments": {},
   "cell_type": "markdown",
   "metadata": {},
   "source": [
    "### Anaconda Prompt\n",
    "syntax below: <br>\n",
    "conda install -c anaconda pip\n",
    "\n",
    "<img src=\"images/image (1).png\"/>\n",
    "https://anaconda.org/anaconda/pip"
   ]
  },
  {
   "cell_type": "markdown",
   "metadata": {
    "ExecuteTime": {
     "end_time": "2020-07-20T06:15:35.613000Z",
     "start_time": "2020-07-20T06:15:35.602948Z"
    }
   },
   "source": [
    "### Anaconda Kernel\n",
    "syntax below: <br>\n",
    "!conda install -c anaconda pip\n"
   ]
  },
  {
   "cell_type": "code",
   "execution_count": 11,
   "metadata": {
    "ExecuteTime": {
     "end_time": "2020-07-20T06:47:51.848162Z",
     "start_time": "2020-07-20T06:39:23.841196Z"
    }
   },
   "outputs": [
    {
     "name": "stdout",
     "output_type": "stream",
     "text": [
      "^C\n"
     ]
    }
   ],
   "source": [
    "!conda install -c anaconda pip"
   ]
  },
  {
   "cell_type": "markdown",
   "metadata": {},
   "source": [
    "## Version of Python or Anaconda"
   ]
  },
  {
   "cell_type": "markdown",
   "metadata": {},
   "source": [
    "### Anaconda Prompt"
   ]
  },
  {
   "attachments": {},
   "cell_type": "markdown",
   "metadata": {},
   "source": [
    "syntax below: <br>\n",
    "~~libraries~~ --version\n",
    "\n",
    "eg.\n",
    "python --version\n",
    "<img src=\"images/image (2).png\"/>"
   ]
  },
  {
   "cell_type": "markdown",
   "metadata": {},
   "source": [
    "### Anaconda Kernel"
   ]
  },
  {
   "cell_type": "code",
   "execution_count": 9,
   "metadata": {
    "ExecuteTime": {
     "end_time": "2020-07-20T06:30:52.312322Z",
     "start_time": "2020-07-20T06:30:51.520157Z"
    }
   },
   "outputs": [
    {
     "name": "stdout",
     "output_type": "stream",
     "text": [
      "conda 4.8.3\n"
     ]
    }
   ],
   "source": [
    "#can also check version of conda\n",
    "!conda --version\n"
   ]
  },
  {
   "cell_type": "markdown",
   "metadata": {
    "ExecuteTime": {
     "end_time": "2020-07-20T06:39:11.545105Z",
     "start_time": "2020-07-20T06:39:11.538613Z"
    }
   },
   "source": [
    "## List of Libraries in Conda"
   ]
  },
  {
   "cell_type": "markdown",
   "metadata": {
    "ExecuteTime": {
     "end_time": "2020-07-20T06:47:51.858136Z",
     "start_time": "2020-07-20T06:47:51.853446Z"
    }
   },
   "source": [
    "### Anaconda Prompt"
   ]
  },
  {
   "attachments": {},
   "cell_type": "markdown",
   "metadata": {},
   "source": [
    "Syntax below: <br>\n",
    "conda list\n",
    "\n",
    "<img src=\"images/image (3).png\"/>"
   ]
  },
  {
   "cell_type": "code",
   "execution_count": 1,
   "metadata": {
    "ExecuteTime": {
     "end_time": "2020-07-29T07:10:48.783366Z",
     "start_time": "2020-07-29T07:10:43.887180Z"
    }
   },
   "outputs": [
    {
     "name": "stdout",
     "output_type": "stream",
     "text": [
      "# packages in environment at C:\\Users\\Lenovo\\anaconda3\\envs\\sbad:\n",
      "#\n",
      "# Name                    Version                   Build  Channel\n",
      "absl-py                   0.9.0                    pypi_0    pypi\n",
      "astor                     0.8.1                    pypi_0    pypi\n",
      "attrs                     19.3.0                   pypi_0    pypi\n",
      "backcall                  0.2.0                    pypi_0    pypi\n",
      "bleach                    3.1.5                    pypi_0    pypi\n",
      "ca-certificates           2020.6.24                     0  \n",
      "cachetools                4.1.1                    pypi_0    pypi\n",
      "certifi                   2020.6.20                py37_0  \n",
      "chardet                   3.0.4                    pypi_0    pypi\n",
      "colorama                  0.4.3                    pypi_0    pypi\n",
      "cycler                    0.10.0                   pypi_0    pypi\n",
      "decorator                 4.4.2                    pypi_0    pypi\n",
      "defusedxml                0.6.0                    pypi_0    pypi\n",
      "entrypoints               0.3                      pypi_0    pypi\n",
      "gast                      0.2.2                    pypi_0    pypi\n",
      "google-auth               1.19.2                   pypi_0    pypi\n",
      "google-auth-oauthlib      0.4.1                    pypi_0    pypi\n",
      "google-pasta              0.2.0                    pypi_0    pypi\n",
      "grpcio                    1.30.0                   pypi_0    pypi\n",
      "h5py                      2.10.0                   pypi_0    pypi\n",
      "idna                      2.10                     pypi_0    pypi\n",
      "importlib-metadata        1.7.0                    pypi_0    pypi\n",
      "ipykernel                 5.3.3                    pypi_0    pypi\n",
      "ipython                   7.16.1                   pypi_0    pypi\n",
      "ipython-genutils          0.2.0                    pypi_0    pypi\n",
      "ipywidgets                7.5.1                    pypi_0    pypi\n",
      "jedi                      0.17.2                   pypi_0    pypi\n",
      "jinja2                    2.11.2                   pypi_0    pypi\n",
      "joblib                    0.16.0                   pypi_0    pypi\n",
      "json5                     0.9.5                    pypi_0    pypi\n",
      "jsonschema                3.2.0                    pypi_0    pypi\n",
      "jupyter                   1.0.0                    pypi_0    pypi\n",
      "jupyter-client            6.1.6                    pypi_0    pypi\n",
      "jupyter-console           6.1.0                    pypi_0    pypi\n",
      "jupyter-contrib-core      0.3.3                    pypi_0    pypi\n",
      "jupyter-contrib-nbextensions 0.5.1                    pypi_0    pypi\n",
      "jupyter-core              4.6.3                    pypi_0    pypi\n",
      "jupyter-highlight-selected-word 0.2.0                    pypi_0    pypi\n",
      "jupyter-latex-envs        1.4.6                    pypi_0    pypi\n",
      "jupyter-nbextensions-configurator 0.4.1                    pypi_0    pypi\n",
      "jupyterlab                2.2.0                    pypi_0    pypi\n",
      "jupyterlab-server         1.2.0                    pypi_0    pypi\n",
      "keras-applications        1.0.8                    pypi_0    pypi\n",
      "keras-preprocessing       1.1.2                    pypi_0    pypi\n",
      "kiwisolver                1.2.0                    pypi_0    pypi\n",
      "lxml                      4.4.1                    pypi_0    pypi\n",
      "markdown                  3.2.2                    pypi_0    pypi\n",
      "markupsafe                1.1.1                    pypi_0    pypi\n",
      "matplotlib                3.1.1                    pypi_0    pypi\n",
      "mistune                   0.8.4                    pypi_0    pypi\n",
      "nbconvert                 5.6.1                    pypi_0    pypi\n",
      "nbformat                  5.0.7                    pypi_0    pypi\n",
      "notebook                  6.0.3                    pypi_0    pypi\n",
      "numpy                     1.19.0                   pypi_0    pypi\n",
      "oauthlib                  3.1.0                    pypi_0    pypi\n",
      "openssl                   1.1.1g               he774522_0  \n",
      "opt-einsum                3.3.0                    pypi_0    pypi\n",
      "packaging                 20.4                     pypi_0    pypi\n",
      "pandas                    0.25.2                   pypi_0    pypi\n",
      "pandocfilters             1.4.2                    pypi_0    pypi\n",
      "parso                     0.7.0                    pypi_0    pypi\n",
      "pickleshare               0.7.5                    pypi_0    pypi\n",
      "pillow                    6.2.1                    pypi_0    pypi\n",
      "pip                       20.1.1                   py37_1  \n",
      "prometheus-client         0.8.0                    pypi_0    pypi\n",
      "prompt-toolkit            3.0.5                    pypi_0    pypi\n",
      "protobuf                  3.12.2                   pypi_0    pypi\n",
      "pyasn1                    0.4.8                    pypi_0    pypi\n",
      "pyasn1-modules            0.2.8                    pypi_0    pypi\n",
      "pygments                  2.6.1                    pypi_0    pypi\n",
      "pyparsing                 2.4.7                    pypi_0    pypi\n",
      "pyrsistent                0.16.0                   pypi_0    pypi\n",
      "python                    3.7.7                h81c818b_4  \n",
      "python-dateutil           2.8.1                    pypi_0    pypi\n",
      "pytz                      2020.1                   pypi_0    pypi\n",
      "pywin32                   228                      pypi_0    pypi\n",
      "pywinpty                  0.5.7                    pypi_0    pypi\n",
      "pyyaml                    5.3.1                    pypi_0    pypi\n",
      "pyzmq                     19.0.1                   pypi_0    pypi\n",
      "qtconsole                 4.7.5                    pypi_0    pypi\n",
      "qtpy                      1.9.0                    pypi_0    pypi\n",
      "requests                  2.24.0                   pypi_0    pypi\n",
      "requests-oauthlib         1.3.0                    pypi_0    pypi\n",
      "rsa                       4.6                      pypi_0    pypi\n",
      "scikit-learn              0.21.3                   pypi_0    pypi\n",
      "scipy                     1.5.1                    pypi_0    pypi\n",
      "seaborn                   0.9.0                    pypi_0    pypi\n",
      "send2trash                1.5.0                    pypi_0    pypi\n",
      "setuptools                49.2.0                   py37_0  \n",
      "six                       1.15.0                   pypi_0    pypi\n",
      "sqlite                    3.32.3               h2a8f88b_0  \n",
      "tensorboard               2.0.2                    pypi_0    pypi\n",
      "tensorflow                2.0.0                    pypi_0    pypi\n",
      "tensorflow-estimator      2.0.1                    pypi_0    pypi\n",
      "termcolor                 1.1.0                    pypi_0    pypi\n",
      "terminado                 0.8.3                    pypi_0    pypi\n",
      "testpath                  0.4.4                    pypi_0    pypi\n",
      "tornado                   6.0.4                    pypi_0    pypi\n",
      "traitlets                 4.3.3                    pypi_0    pypi\n",
      "urllib3                   1.25.9                   pypi_0    pypi\n",
      "vc                        14.1                 h0510ff6_4  \n",
      "vs2015_runtime            14.16.27012          hf0eaf9b_3  \n",
      "wcwidth                   0.2.5                    pypi_0    pypi\n",
      "webencodings              0.5.1                    pypi_0    pypi\n",
      "werkzeug                  1.0.1                    pypi_0    pypi\n",
      "wheel                     0.34.2                   py37_0  \n",
      "widgetsnbextension        3.5.1                    pypi_0    pypi\n",
      "wincertstore              0.2                      py37_0  \n",
      "wrapt                     1.12.1                   pypi_0    pypi\n",
      "zipp                      3.1.0                    pypi_0    pypi\n",
      "zlib                      1.2.11               h62dcd97_4  \n"
     ]
    }
   ],
   "source": [
    "!conda list"
   ]
  },
  {
   "attachments": {},
   "cell_type": "markdown",
   "metadata": {},
   "source": [
    "### Anaconda Kernel\n",
    "\n",
    "You can see the installed packages in Anaconda\n",
    "\n",
    "<img src=\"images/image (4).png\"/>\n"
   ]
  },
  {
   "cell_type": "markdown",
   "metadata": {},
   "source": [
    "## Creating an new environment"
   ]
  },
  {
   "cell_type": "markdown",
   "metadata": {
    "ExecuteTime": {
     "end_time": "2020-07-20T06:59:18.221704Z",
     "start_time": "2020-07-20T06:59:18.216685Z"
    }
   },
   "source": [
    "### Anaconda Prompt"
   ]
  },
  {
   "attachments": {},
   "cell_type": "markdown",
   "metadata": {},
   "source": [
    "conda create -n mytfenv python=3.7 <br>\n",
    "press y for yes\n",
    "\n",
    "<img src=\"images/image (5).png\"/>\n",
    "it's best to create an new envirnoment"
   ]
  },
  {
   "attachments": {},
   "cell_type": "markdown",
   "metadata": {},
   "source": [
    "<img src=\"images/image (6).png\"/>"
   ]
  },
  {
   "cell_type": "markdown",
   "metadata": {},
   "source": [
    "## Activate environment"
   ]
  },
  {
   "attachments": {},
   "cell_type": "markdown",
   "metadata": {},
   "source": [
    "### Anaconda Prompt\n",
    "\n",
    "syntax below:\n",
    "\n",
    "conda activate mytfenv\n",
    "\n",
    "<img src=\"images/image (7).png\"/>"
   ]
  },
  {
   "cell_type": "markdown",
   "metadata": {},
   "source": [
    "### Anaconda Kernel"
   ]
  },
  {
   "cell_type": "markdown",
   "metadata": {},
   "source": [
    "Use Anaconda Navigator"
   ]
  },
  {
   "cell_type": "markdown",
   "metadata": {
    "ExecuteTime": {
     "end_time": "2020-07-20T08:12:00.409352Z",
     "start_time": "2020-07-20T08:12:00.404399Z"
    }
   },
   "source": [
    "## Create list of libraries that you want"
   ]
  },
  {
   "cell_type": "markdown",
   "metadata": {},
   "source": [
    "### Anaconda Prompt\n",
    "\n",
    "pip install -r requirements.txt"
   ]
  },
  {
   "attachments": {},
   "cell_type": "markdown",
   "metadata": {},
   "source": [
    "You can change the version that the libraries or libabries that you need. Depending on the project you will be doing\n",
    "<img src=\"images/image (8).png\"/>"
   ]
  },
  {
   "cell_type": "markdown",
   "metadata": {},
   "source": [
    "## Installing packages"
   ]
  },
  {
   "attachments": {},
   "cell_type": "markdown",
   "metadata": {},
   "source": [
    "### Anaconda Prompt\n",
    "\n",
    "syntax below:\n",
    "\n",
    "pip install ~~package~~\n",
    "\n",
    "example: <br>\n",
    "pip install seaborn\n",
    "\n",
    "<img src=\"images/image (9).png\"/>"
   ]
  },
  {
   "cell_type": "markdown",
   "metadata": {},
   "source": [
    "### Anaconda Kernel"
   ]
  },
  {
   "cell_type": "code",
   "execution_count": 6,
   "metadata": {
    "ExecuteTime": {
     "end_time": "2020-07-20T08:06:43.553662Z",
     "start_time": "2020-07-20T08:06:39.176406Z"
    }
   },
   "outputs": [
    {
     "name": "stdout",
     "output_type": "stream",
     "text": [
      "Requirement already satisfied: seaborn in c:\\users\\lenovo\\anaconda3\\lib\\site-packages (0.10.1)\n",
      "Requirement already satisfied: numpy>=1.13.3 in c:\\users\\lenovo\\anaconda3\\lib\\site-packages (from seaborn) (1.17.2)\n",
      "Requirement already satisfied: scipy>=1.0.1 in c:\\users\\lenovo\\anaconda3\\lib\\site-packages (from seaborn) (1.4.1)\n",
      "Requirement already satisfied: matplotlib>=2.1.2 in c:\\users\\lenovo\\anaconda3\\lib\\site-packages (from seaborn) (3.2.2)\n",
      "Requirement already satisfied: pandas>=0.22.0 in c:\\users\\lenovo\\anaconda3\\lib\\site-packages (from seaborn) (1.0.3)\n",
      "Requirement already satisfied: cycler>=0.10 in c:\\users\\lenovo\\anaconda3\\lib\\site-packages (from matplotlib>=2.1.2->seaborn) (0.10.0)\n",
      "Requirement already satisfied: kiwisolver>=1.0.1 in c:\\users\\lenovo\\anaconda3\\lib\\site-packages (from matplotlib>=2.1.2->seaborn) (1.2.0)\n",
      "Requirement already satisfied: python-dateutil>=2.1 in c:\\users\\lenovo\\anaconda3\\lib\\site-packages (from matplotlib>=2.1.2->seaborn) (2.8.1)\n",
      "Requirement already satisfied: pyparsing!=2.0.4,!=2.1.2,!=2.1.6,>=2.0.1 in c:\\users\\lenovo\\anaconda3\\lib\\site-packages (from matplotlib>=2.1.2->seaborn) (2.4.7)\n",
      "Requirement already satisfied: pytz>=2017.2 in c:\\users\\lenovo\\anaconda3\\lib\\site-packages (from pandas>=0.22.0->seaborn) (2019.3)\n",
      "Requirement already satisfied: six in c:\\users\\lenovo\\anaconda3\\lib\\site-packages (from cycler>=0.10->matplotlib>=2.1.2->seaborn) (1.14.0)\n"
     ]
    }
   ],
   "source": [
    "!pip install seaborn"
   ]
  },
  {
   "attachments": {},
   "cell_type": "markdown",
   "metadata": {},
   "source": [
    "### Install Anaconda navigator\n",
    "\n",
    "<img src=\"images/image (10).png\"/>\n",
    "\n",
    "https://docs.anaconda.com/anaconda/navigator/tutorials/pandas/"
   ]
  },
  {
   "attachments": {},
   "cell_type": "markdown",
   "metadata": {},
   "source": [
    "<img src=\"images/image (11).png\"/>"
   ]
  },
  {
   "attachments": {},
   "cell_type": "markdown",
   "metadata": {},
   "source": [
    "<img src=\"images/image (12).png\"/>"
   ]
  },
  {
   "attachments": {},
   "cell_type": "markdown",
   "metadata": {},
   "source": [
    "<img src=\"images/image (13).png\"/>"
   ]
  },
  {
   "cell_type": "markdown",
   "metadata": {
    "ExecuteTime": {
     "end_time": "2020-07-20T07:18:55.601011Z",
     "start_time": "2020-07-20T07:18:55.594989Z"
    }
   },
   "source": [
    "## Check version of Libraries"
   ]
  },
  {
   "attachments": {},
   "cell_type": "markdown",
   "metadata": {},
   "source": [
    "During one of our hackathon I an error that I will remember I coudn't run df.explode, it was so frustrating at that time because of time constraints. Later on I realized that the pandas version that was needed 0.25. So the little things\n",
    "\n",
    "<img src=\"images/image (14).png\"/>\n",
    "<br>https://pandas.pydata.org/pandas-docs/stable/reference/api/pandas.DataFrame.explode.html"
   ]
  },
  {
   "cell_type": "markdown",
   "metadata": {},
   "source": [
    "### Anaconda Prompt"
   ]
  },
  {
   "attachments": {},
   "cell_type": "markdown",
   "metadata": {
    "ExecuteTime": {
     "end_time": "2020-07-20T07:28:25.312736Z",
     "start_time": "2020-07-20T07:28:23.972350Z"
    }
   },
   "source": [
    "Step 1: Open up your terminal / Console / Command prompt. <br>\n",
    "Step 2: Type “python”.\n",
    "\n",
    "<img src=\"images/image (15).png\"/>"
   ]
  },
  {
   "attachments": {},
   "cell_type": "markdown",
   "metadata": {},
   "source": [
    "<img src=\"images/image (16).png\"/>"
   ]
  },
  {
   "cell_type": "markdown",
   "metadata": {},
   "source": [
    "### Anaconda Kernel"
   ]
  },
  {
   "cell_type": "code",
   "execution_count": 7,
   "metadata": {
    "ExecuteTime": {
     "end_time": "2020-07-20T08:06:43.570621Z",
     "start_time": "2020-07-20T08:06:43.562638Z"
    }
   },
   "outputs": [
    {
     "name": "stdout",
     "output_type": "stream",
     "text": [
      "1.0.3\n"
     ]
    }
   ],
   "source": [
    "import pandas as pd\n",
    "##change pd to other libraries\n",
    "print(pd.__version__)"
   ]
  },
  {
   "cell_type": "code",
   "execution_count": 8,
   "metadata": {
    "ExecuteTime": {
     "end_time": "2020-07-20T08:06:43.656388Z",
     "start_time": "2020-07-20T08:06:43.576601Z"
    }
   },
   "outputs": [
    {
     "name": "stdout",
     "output_type": "stream",
     "text": [
      "\n",
      "INSTALLED VERSIONS\n",
      "------------------\n",
      "commit           : None\n",
      "python           : 3.7.6.final.0\n",
      "python-bits      : 64\n",
      "OS               : Windows\n",
      "OS-release       : 10\n",
      "machine          : AMD64\n",
      "processor        : Intel64 Family 6 Model 142 Stepping 10, GenuineIntel\n",
      "byteorder        : little\n",
      "LC_ALL           : None\n",
      "LANG             : None\n",
      "LOCALE           : None.None\n",
      "\n",
      "pandas           : 1.0.3\n",
      "numpy            : 1.17.2\n",
      "pytz             : 2019.3\n",
      "dateutil         : 2.8.1\n",
      "pip              : 20.1.1\n",
      "setuptools       : 46.1.3.post20200330\n",
      "Cython           : 0.29.14\n",
      "pytest           : 5.4.3\n",
      "hypothesis       : None\n",
      "sphinx           : None\n",
      "blosc            : None\n",
      "feather          : None\n",
      "xlsxwriter       : None\n",
      "lxml.etree       : 4.5.1\n",
      "html5lib         : None\n",
      "pymysql          : None\n",
      "psycopg2         : None\n",
      "jinja2           : 2.11.2\n",
      "IPython          : 7.13.0\n",
      "pandas_datareader: None\n",
      "bs4              : 4.9.0\n",
      "bottleneck       : None\n",
      "fastparquet      : None\n",
      "gcsfs            : None\n",
      "lxml.etree       : 4.5.1\n",
      "matplotlib       : 3.2.2\n",
      "numexpr          : 2.7.1\n",
      "odfpy            : None\n",
      "openpyxl         : None\n",
      "pandas_gbq       : None\n",
      "pyarrow          : None\n",
      "pytables         : None\n",
      "pytest           : 5.4.3\n",
      "pyxlsb           : None\n",
      "s3fs             : None\n",
      "scipy            : 1.4.1\n",
      "sqlalchemy       : None\n",
      "tables           : None\n",
      "tabulate         : None\n",
      "xarray           : None\n",
      "xlrd             : 1.2.0\n",
      "xlwt             : None\n",
      "xlsxwriter       : None\n",
      "numba            : 0.50.1\n"
     ]
    }
   ],
   "source": [
    "# Check the version of the dependencies \n",
    "pd.show_versions() "
   ]
  },
  {
   "cell_type": "markdown",
   "metadata": {},
   "source": [
    "## Update all packages"
   ]
  },
  {
   "cell_type": "markdown",
   "metadata": {},
   "source": [
    "conda update --all"
   ]
  },
  {
   "cell_type": "markdown",
   "metadata": {},
   "source": [
    "## Useful installating"
   ]
  },
  {
   "cell_type": "markdown",
   "metadata": {},
   "source": [
    "### jupyter_contrib_nbextensions\n",
    "\n",
    "<img src=\"images/image (17).png\"/>\n",
    "\n",
    "* execute time\n",
    "\n",
    "* table of contents(2)"
   ]
  },
  {
   "cell_type": "markdown",
   "metadata": {},
   "source": [
    "!pip install jupyter_contrib_nbextensions"
   ]
  },
  {
   "cell_type": "code",
   "execution_count": null,
   "metadata": {},
   "outputs": [],
   "source": []
  }
 ],
 "metadata": {
  "kernelspec": {
   "display_name": "Python 3",
   "language": "python",
   "name": "python3"
  },
  "language_info": {
   "codemirror_mode": {
    "name": "ipython",
    "version": 3
   },
   "file_extension": ".py",
   "mimetype": "text/x-python",
   "name": "python",
   "nbconvert_exporter": "python",
   "pygments_lexer": "ipython3",
   "version": "3.7.7"
  },
  "toc": {
   "base_numbering": 1,
   "nav_menu": {},
   "number_sections": true,
   "sideBar": true,
   "skip_h1_title": false,
   "title_cell": "Table of Contents",
   "title_sidebar": "Contents",
   "toc_cell": false,
   "toc_position": {},
   "toc_section_display": true,
   "toc_window_display": false
  }
 },
 "nbformat": 4,
 "nbformat_minor": 4
}
